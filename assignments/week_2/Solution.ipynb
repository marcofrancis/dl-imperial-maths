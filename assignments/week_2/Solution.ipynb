{
 "cells": [
  {
   "cell_type": "code",
   "execution_count": 1,
   "metadata": {},
   "outputs": [],
   "source": [
    "import numpy as np\n",
    "import pandas as pd\n",
    "import tensorflow as tf\n",
    "import matplotlib.pyplot as plt\n",
    "from sklearn import preprocessing"
   ]
  },
  {
   "cell_type": "code",
   "execution_count": 2,
   "metadata": {},
   "outputs": [],
   "source": [
    "train_data=np.genfromtxt('MNIST/mnist_train.csv',delimiter=',')\n",
    "test_data=np.genfromtxt('MNIST/mnist_test.csv',delimiter=',')"
   ]
  },
  {
   "cell_type": "code",
   "execution_count": 3,
   "metadata": {},
   "outputs": [],
   "source": [
    "train_labels=train_data[:,0]\n",
    "train_set=train_data[:,1:]\n",
    "test_labels=test_data[:,0]\n",
    "test_set=test_data[:,1:]"
   ]
  },
  {
   "cell_type": "code",
   "execution_count": 4,
   "metadata": {},
   "outputs": [
    {
     "name": "stdout",
     "output_type": "stream",
     "text": [
      "(60000, 784)\n",
      "(10000, 784)\n"
     ]
    }
   ],
   "source": [
    "print(np.shape(train_set))\n",
    "print(np.shape(test_set))"
   ]
  },
  {
   "cell_type": "code",
   "execution_count": 5,
   "metadata": {},
   "outputs": [],
   "source": [
    "enc=preprocessing.OneHotEncoder(sparse=False,categories='auto')"
   ]
  },
  {
   "cell_type": "code",
   "execution_count": 6,
   "metadata": {},
   "outputs": [
    {
     "data": {
      "text/plain": [
       "OneHotEncoder(categorical_features=None, categories='auto',\n",
       "       dtype=<class 'numpy.float64'>, handle_unknown='error',\n",
       "       n_values=None, sparse=False)"
      ]
     },
     "execution_count": 6,
     "metadata": {},
     "output_type": "execute_result"
    }
   ],
   "source": [
    "enc.fit(train_labels.reshape(-1,1))"
   ]
  },
  {
   "cell_type": "code",
   "execution_count": 7,
   "metadata": {},
   "outputs": [],
   "source": [
    "train_labels_onehot=enc.transform(train_labels.reshape(-1,1))\n",
    "test_labels_onehot=enc.transform(test_labels.reshape(-1,1))"
   ]
  },
  {
   "cell_type": "code",
   "execution_count": 8,
   "metadata": {},
   "outputs": [
    {
     "data": {
      "text/plain": [
       "array([[0., 0., 0., ..., 0., 0., 0.],\n",
       "       [1., 0., 0., ..., 0., 0., 0.],\n",
       "       [0., 0., 0., ..., 0., 0., 0.],\n",
       "       ...,\n",
       "       [0., 0., 0., ..., 0., 0., 0.],\n",
       "       [0., 0., 0., ..., 0., 0., 0.],\n",
       "       [0., 0., 0., ..., 0., 1., 0.]])"
      ]
     },
     "execution_count": 8,
     "metadata": {},
     "output_type": "execute_result"
    }
   ],
   "source": [
    "train_labels_onehot"
   ]
  },
  {
   "cell_type": "code",
   "execution_count": 9,
   "metadata": {},
   "outputs": [
    {
     "data": {
      "text/plain": [
       "array([[0., 0., 0., ..., 1., 0., 0.],\n",
       "       [0., 0., 1., ..., 0., 0., 0.],\n",
       "       [0., 1., 0., ..., 0., 0., 0.],\n",
       "       ...,\n",
       "       [0., 0., 0., ..., 0., 0., 0.],\n",
       "       [0., 0., 0., ..., 0., 0., 0.],\n",
       "       [0., 0., 0., ..., 0., 0., 0.]])"
      ]
     },
     "execution_count": 9,
     "metadata": {},
     "output_type": "execute_result"
    }
   ],
   "source": [
    "test_labels_onehot"
   ]
  },
  {
   "cell_type": "code",
   "execution_count": 10,
   "metadata": {},
   "outputs": [],
   "source": [
    "class MNIST_CLASSIFIER:\n",
    "    def __init__(self, wd_factor, learning_rate):\n",
    "        self.wd_factor = wd_factor\n",
    "        self.learning_rate = learning_rate\n",
    "        self.train_pointer = 0\n",
    "        self.test_pointer = 0\n",
    "        \n",
    "        self.sess = tf.Session()\n",
    "        \n",
    "        self.input = tf.placeholder(dtype=tf.float32, shape=[None, 784], name='input')\n",
    "        self.ground_truth = tf.placeholder(dtype=tf.float32, shape=[None, 10], name='ground_truth')\n",
    "        print(self.input)\n",
    "        \n",
    "        self._build_graph()\n",
    "        \n",
    "    def _build_graph(self):\n",
    "        weights = []  # for weight decay\n",
    "        \n",
    "        with tf.variable_scope('layers'):\n",
    "            h = tf.layers.dense(self.input, 512, kernel_initializer=tf.glorot_uniform_initializer(), \n",
    "                                activation=tf.tanh, name='1')\n",
    "            print(h)\n",
    "            h = tf.layers.dense(h, 256, kernel_initializer=tf.glorot_uniform_initializer(), \n",
    "                                activation=tf.tanh, name='2')\n",
    "            print(h)\n",
    "            h = tf.layers.dense(h, 64, kernel_initializer=tf.glorot_uniform_initializer(), \n",
    "                                activation=tf.tanh, name='3')\n",
    "            print(h)\n",
    "            self.logits = tf.layers.dense(h, 10, kernel_initializer=tf.glorot_uniform_initializer(), \n",
    "                                          activation=tf.identity, name='4')\n",
    "            print(self.logits)\n",
    "            self.prediction = tf.nn.softmax(self.logits, name='softmax_prediction')\n",
    "            self.precision = tf.reduce_mean(self.prediction*self.ground_truth)\n",
    "        with tf.name_scope('loss'):\n",
    "            self.loss = tf.reduce_mean(tf.nn.softmax_cross_entropy_with_logits_v2(logits=self.logits, \n",
    "                                                                                  labels=self.ground_truth))\n",
    "            self.loss += self.weight_decay() \n",
    "            \n",
    "        self.optimizer = tf.train.AdamOptimizer(self.learning_rate)\n",
    "        self.train_op = self.optimizer.minimize(self.loss)\n",
    "            \n",
    "    def weight_decay(self):\n",
    "        loss = 0\n",
    "        for v in tf.global_variables():\n",
    "            if 'Adam' in v.name:\n",
    "                continue\n",
    "            elif 'kernel' in v.name:\n",
    "                loss += self.wd_factor * tf.nn.l2_loss(v)\n",
    "        print(loss)\n",
    "        return loss\n",
    "    \n",
    "    def train_minibatch(self, samples, labels, batch_size):\n",
    "        if self.train_pointer + batch_size <= samples.shape[0]:\n",
    "            samples_minibatch = samples[self.train_pointer: self.train_pointer + batch_size]\n",
    "            labels_minibatch = labels[self.train_pointer: self.train_pointer + batch_size]\n",
    "            self.train_pointer += batch_size\n",
    "        else:\n",
    "            samples_minibatch = samples[self.train_pointer:]\n",
    "            labels_minibatch = labels[self.train_pointer: self.train_pointer + batch_size]\n",
    "            self.train_pointer = 0\n",
    "        return samples_minibatch, labels_minibatch\n",
    "\n",
    "    def train(self, train_samples, train_labels, train_batch_size, iteration_steps):\n",
    "        self.sess.run(tf.global_variables_initializer())\n",
    "\n",
    "        print('Start Training')\n",
    "        losses = []\n",
    "        for i in range(iteration_steps):\n",
    "            samples, labels = self.train_minibatch(train_samples, train_labels, train_batch_size)\n",
    "            feed_dict = {self.input: samples, self.ground_truth: labels}\n",
    "            _, loss = self.sess.run([self.train_op, self.loss], feed_dict=feed_dict)\n",
    "            if i % 50 == 0:\n",
    "                print(\"Minibatch loss at step {}: {}\".format(i, loss))\n",
    "                losses.append([i, loss])\n",
    "        return losses\n",
    "                    \n",
    "    def test_minibatch(self, samples, labels, batch_size):\n",
    "        if self.test_pointer + batch_size <= samples.shape[0]:\n",
    "            samples_minibatch = samples[self.test_pointer: self.test_pointer + batch_size]\n",
    "            labels_minibatch = labels[self.test_pointer: self.test_pointer + batch_size]\n",
    "            self.test_pointer += batch_size\n",
    "            end_of_epoch = False\n",
    "        else:\n",
    "            samples_minibatch = samples[self.test_pointer:]\n",
    "            labels_minibatch = labels[self.test_pointer: self.test_pointer + batch_size]\n",
    "            self.test_pointer = 0\n",
    "            end_of_epoch = True\n",
    "        return samples_minibatch, labels_minibatch, end_of_epoch\n",
    "            \n",
    "    def test(self, test_samples, test_labels, test_batch_size):\n",
    "        end_of_epoch = False\n",
    "        losses = []\n",
    "        while not end_of_epoch:\n",
    "            samples, labels, end_of_epoch = self.test_minibatch(test_samples, test_labels, test_batch_size)\n",
    "            feed_dict = {self.input: samples, self.ground_truth: labels}\n",
    "            losses.append(self.sess.run(self.loss, feed_dict=feed_dict))  \n",
    "        print(\"Average test loss: {}\".format(np.mean(losses)))"
   ]
  },
  {
   "cell_type": "code",
   "execution_count": 11,
   "metadata": {},
   "outputs": [
    {
     "name": "stdout",
     "output_type": "stream",
     "text": [
      "Tensor(\"input:0\", shape=(?, 784), dtype=float32)\n",
      "Tensor(\"layers/1/Tanh:0\", shape=(?, 512), dtype=float32)\n",
      "Tensor(\"layers/2/Tanh:0\", shape=(?, 256), dtype=float32)\n",
      "Tensor(\"layers/3/Tanh:0\", shape=(?, 64), dtype=float32)\n",
      "Tensor(\"layers/4/Identity:0\", shape=(?, 10), dtype=float32)\n",
      "Tensor(\"loss/add_3:0\", shape=(), dtype=float32)\n"
     ]
    }
   ],
   "source": [
    "WD_FACTOR = 0.0001\n",
    "LEARNING_RATE = 0.001\n",
    "model = MNIST_CLASSIFIER(WD_FACTOR, LEARNING_RATE)"
   ]
  },
  {
   "cell_type": "code",
   "execution_count": 12,
   "metadata": {},
   "outputs": [
    {
     "data": {
      "text/plain": [
       "[<tf.Variable 'layers/1/kernel:0' shape=(784, 512) dtype=float32_ref>,\n",
       " <tf.Variable 'layers/1/bias:0' shape=(512,) dtype=float32_ref>,\n",
       " <tf.Variable 'layers/2/kernel:0' shape=(512, 256) dtype=float32_ref>,\n",
       " <tf.Variable 'layers/2/bias:0' shape=(256,) dtype=float32_ref>,\n",
       " <tf.Variable 'layers/3/kernel:0' shape=(256, 64) dtype=float32_ref>,\n",
       " <tf.Variable 'layers/3/bias:0' shape=(64,) dtype=float32_ref>,\n",
       " <tf.Variable 'layers/4/kernel:0' shape=(64, 10) dtype=float32_ref>,\n",
       " <tf.Variable 'layers/4/bias:0' shape=(10,) dtype=float32_ref>,\n",
       " <tf.Variable 'beta1_power:0' shape=() dtype=float32_ref>,\n",
       " <tf.Variable 'beta2_power:0' shape=() dtype=float32_ref>,\n",
       " <tf.Variable 'layers/1/kernel/Adam:0' shape=(784, 512) dtype=float32_ref>,\n",
       " <tf.Variable 'layers/1/kernel/Adam_1:0' shape=(784, 512) dtype=float32_ref>,\n",
       " <tf.Variable 'layers/1/bias/Adam:0' shape=(512,) dtype=float32_ref>,\n",
       " <tf.Variable 'layers/1/bias/Adam_1:0' shape=(512,) dtype=float32_ref>,\n",
       " <tf.Variable 'layers/2/kernel/Adam:0' shape=(512, 256) dtype=float32_ref>,\n",
       " <tf.Variable 'layers/2/kernel/Adam_1:0' shape=(512, 256) dtype=float32_ref>,\n",
       " <tf.Variable 'layers/2/bias/Adam:0' shape=(256,) dtype=float32_ref>,\n",
       " <tf.Variable 'layers/2/bias/Adam_1:0' shape=(256,) dtype=float32_ref>,\n",
       " <tf.Variable 'layers/3/kernel/Adam:0' shape=(256, 64) dtype=float32_ref>,\n",
       " <tf.Variable 'layers/3/kernel/Adam_1:0' shape=(256, 64) dtype=float32_ref>,\n",
       " <tf.Variable 'layers/3/bias/Adam:0' shape=(64,) dtype=float32_ref>,\n",
       " <tf.Variable 'layers/3/bias/Adam_1:0' shape=(64,) dtype=float32_ref>,\n",
       " <tf.Variable 'layers/4/kernel/Adam:0' shape=(64, 10) dtype=float32_ref>,\n",
       " <tf.Variable 'layers/4/kernel/Adam_1:0' shape=(64, 10) dtype=float32_ref>,\n",
       " <tf.Variable 'layers/4/bias/Adam:0' shape=(10,) dtype=float32_ref>,\n",
       " <tf.Variable 'layers/4/bias/Adam_1:0' shape=(10,) dtype=float32_ref>]"
      ]
     },
     "execution_count": 12,
     "metadata": {},
     "output_type": "execute_result"
    }
   ],
   "source": [
    "tf.global_variables()"
   ]
  },
  {
   "cell_type": "code",
   "execution_count": 13,
   "metadata": {},
   "outputs": [
    {
     "name": "stdout",
     "output_type": "stream",
     "text": [
      "Start Training\n",
      "Minibatch loss at step 0: 2.6317501068115234\n",
      "Minibatch loss at step 50: 0.518750786781311\n",
      "Minibatch loss at step 100: 0.4057086110115051\n",
      "Minibatch loss at step 150: 0.3460649251937866\n",
      "Minibatch loss at step 200: 0.2781182527542114\n",
      "Minibatch loss at step 250: 0.4303106367588043\n",
      "Minibatch loss at step 300: 0.3928103744983673\n",
      "Minibatch loss at step 350: 0.47454169392585754\n",
      "Minibatch loss at step 400: 0.4977268576622009\n",
      "Minibatch loss at step 450: 0.3388643264770508\n",
      "Minibatch loss at step 500: 0.30338698625564575\n",
      "Minibatch loss at step 550: 0.2943413257598877\n",
      "Minibatch loss at step 600: 0.44673287868499756\n",
      "Minibatch loss at step 650: 0.3513141870498657\n",
      "Minibatch loss at step 700: 0.26321470737457275\n",
      "Minibatch loss at step 750: 0.3476466238498688\n",
      "Minibatch loss at step 800: 0.5242355465888977\n",
      "Minibatch loss at step 850: 0.1741648018360138\n",
      "Minibatch loss at step 900: 0.29277366399765015\n",
      "Minibatch loss at step 950: 0.27881866693496704\n",
      "Minibatch loss at step 1000: 0.3052061200141907\n",
      "Minibatch loss at step 1050: 0.47563308477401733\n",
      "Minibatch loss at step 1100: 0.33751875162124634\n",
      "Minibatch loss at step 1150: 0.477530837059021\n",
      "Minibatch loss at step 1200: 0.2622039020061493\n",
      "Minibatch loss at step 1250: 0.39695602655410767\n",
      "Minibatch loss at step 1300: 0.4200814664363861\n",
      "Minibatch loss at step 1350: 0.47014936804771423\n",
      "Minibatch loss at step 1400: 0.17882488667964935\n",
      "Minibatch loss at step 1450: 0.2755535840988159\n",
      "Minibatch loss at step 1500: 0.2605612576007843\n",
      "Minibatch loss at step 1550: 0.2978842258453369\n",
      "Minibatch loss at step 1600: 0.4334913194179535\n",
      "Minibatch loss at step 1650: 0.3204267919063568\n",
      "Minibatch loss at step 1700: 0.37654274702072144\n",
      "Minibatch loss at step 1750: 0.33634254336357117\n",
      "Minibatch loss at step 1800: 0.6471249461174011\n",
      "Minibatch loss at step 1850: 0.1990371197462082\n",
      "Minibatch loss at step 1900: 0.1327473223209381\n",
      "Minibatch loss at step 1950: 0.3516881763935089\n",
      "Minibatch loss at step 2000: 0.3595569133758545\n",
      "Minibatch loss at step 2050: 0.17839178442955017\n",
      "Minibatch loss at step 2100: 0.2728794515132904\n",
      "Minibatch loss at step 2150: 0.2504614293575287\n",
      "Minibatch loss at step 2200: 0.4346037805080414\n",
      "Minibatch loss at step 2250: 0.3521277606487274\n",
      "Minibatch loss at step 2300: 0.22275850176811218\n",
      "Minibatch loss at step 2350: 0.2875269055366516\n",
      "Minibatch loss at step 2400: 0.19296538829803467\n",
      "Minibatch loss at step 2450: 0.26566195487976074\n",
      "Minibatch loss at step 2500: 0.26224181056022644\n",
      "Minibatch loss at step 2550: 0.2625133693218231\n",
      "Minibatch loss at step 2600: 0.23143750429153442\n",
      "Minibatch loss at step 2650: 0.21358346939086914\n",
      "Minibatch loss at step 2700: 0.4487107992172241\n",
      "Minibatch loss at step 2750: 0.20555126667022705\n",
      "Minibatch loss at step 2800: 0.21876689791679382\n",
      "Minibatch loss at step 2850: 0.24847012758255005\n",
      "Minibatch loss at step 2900: 0.25024861097335815\n",
      "Minibatch loss at step 2950: 0.2193688452243805\n",
      "Minibatch loss at step 3000: 0.28966328501701355\n",
      "Minibatch loss at step 3050: 0.27080705761909485\n",
      "Minibatch loss at step 3100: 0.21730825304985046\n",
      "Minibatch loss at step 3150: 0.29826584458351135\n",
      "Minibatch loss at step 3200: 0.3952743411064148\n",
      "Minibatch loss at step 3250: 0.2907857596874237\n",
      "Minibatch loss at step 3300: 0.1854494959115982\n",
      "Minibatch loss at step 3350: 0.27113455533981323\n",
      "Minibatch loss at step 3400: 0.2021796852350235\n",
      "Minibatch loss at step 3450: 0.19460493326187134\n",
      "Minibatch loss at step 3500: 0.2630429267883301\n",
      "Minibatch loss at step 3550: 0.16807299852371216\n",
      "Minibatch loss at step 3600: 0.3111377954483032\n",
      "Minibatch loss at step 3650: 0.23973901569843292\n",
      "Minibatch loss at step 3700: 0.24382591247558594\n",
      "Minibatch loss at step 3750: 0.17080625891685486\n",
      "Minibatch loss at step 3800: 0.21353620290756226\n",
      "Minibatch loss at step 3850: 0.5498624444007874\n",
      "Minibatch loss at step 3900: 0.19878122210502625\n",
      "Minibatch loss at step 3950: 0.15878522396087646\n",
      "Minibatch loss at step 4000: 0.33873647451400757\n",
      "Minibatch loss at step 4050: 0.29112982749938965\n",
      "Minibatch loss at step 4100: 0.18421337008476257\n",
      "Minibatch loss at step 4150: 0.12735262513160706\n",
      "Minibatch loss at step 4200: 0.20758697390556335\n",
      "Minibatch loss at step 4250: 0.2668115496635437\n",
      "Minibatch loss at step 4300: 0.41177019476890564\n",
      "Minibatch loss at step 4350: 0.2748103141784668\n",
      "Minibatch loss at step 4400: 0.19000586867332458\n",
      "Minibatch loss at step 4450: 0.3059566617012024\n",
      "Minibatch loss at step 4500: 0.16271039843559265\n",
      "Minibatch loss at step 4550: 0.3631744086742401\n",
      "Minibatch loss at step 4600: 0.23402626812458038\n",
      "Minibatch loss at step 4650: 0.3591482639312744\n",
      "Minibatch loss at step 4700: 0.3995482325553894\n",
      "Minibatch loss at step 4750: 0.2194940745830536\n",
      "Minibatch loss at step 4800: 0.2389979511499405\n",
      "Minibatch loss at step 4850: 0.19501261413097382\n",
      "Minibatch loss at step 4900: 0.2028188556432724\n",
      "Minibatch loss at step 4950: 0.36304837465286255\n",
      "Minibatch loss at step 5000: 0.2500736713409424\n",
      "Minibatch loss at step 5050: 0.3483196198940277\n",
      "Minibatch loss at step 5100: 0.18959957361221313\n",
      "Minibatch loss at step 5150: 0.1189151406288147\n",
      "Minibatch loss at step 5200: 0.26714348793029785\n",
      "Minibatch loss at step 5250: 0.32259219884872437\n",
      "Minibatch loss at step 5300: 0.194713294506073\n",
      "Minibatch loss at step 5350: 0.22154156863689423\n",
      "Minibatch loss at step 5400: 0.34023189544677734\n",
      "Minibatch loss at step 5450: 0.37791064381599426\n",
      "Minibatch loss at step 5500: 0.28699028491973877\n",
      "Minibatch loss at step 5550: 0.19072651863098145\n",
      "Minibatch loss at step 5600: 0.20975527167320251\n",
      "Minibatch loss at step 5650: 0.21590003371238708\n",
      "Minibatch loss at step 5700: 0.25450995564460754\n",
      "Minibatch loss at step 5750: 0.2236570119857788\n",
      "Minibatch loss at step 5800: 0.2525288164615631\n",
      "Minibatch loss at step 5850: 0.2509596347808838\n",
      "Minibatch loss at step 5900: 0.34506142139434814\n",
      "Minibatch loss at step 5950: 0.3953082263469696\n",
      "Minibatch loss at step 6000: 0.2591906785964966\n",
      "Minibatch loss at step 6050: 0.2317114770412445\n",
      "Minibatch loss at step 6100: 0.3292585015296936\n",
      "Minibatch loss at step 6150: 0.3489983081817627\n",
      "Minibatch loss at step 6200: 0.1713889241218567\n",
      "Minibatch loss at step 6250: 0.21390488743782043\n",
      "Minibatch loss at step 6300: 0.21811431646347046\n",
      "Minibatch loss at step 6350: 0.31405338644981384\n",
      "Minibatch loss at step 6400: 0.16553853452205658\n",
      "Minibatch loss at step 6450: 0.22498583793640137\n",
      "Minibatch loss at step 6500: 0.1632312834262848\n",
      "Minibatch loss at step 6550: 0.19913046061992645\n",
      "Minibatch loss at step 6600: 0.22010648250579834\n",
      "Minibatch loss at step 6650: 0.2117193341255188\n",
      "Minibatch loss at step 6700: 0.23623238503932953\n",
      "Minibatch loss at step 6750: 0.3015877306461334\n",
      "Minibatch loss at step 6800: 0.2505805492401123\n",
      "Minibatch loss at step 6850: 0.2821234464645386\n",
      "Minibatch loss at step 6900: 0.2500638961791992\n",
      "Minibatch loss at step 6950: 0.2381666749715805\n",
      "Minibatch loss at step 7000: 0.18332232534885406\n",
      "Minibatch loss at step 7050: 0.25666922330856323\n",
      "Minibatch loss at step 7100: 0.21019572019577026\n",
      "Minibatch loss at step 7150: 0.29473066329956055\n",
      "Minibatch loss at step 7200: 0.2573281526565552\n",
      "Minibatch loss at step 7250: 0.27651527523994446\n",
      "Minibatch loss at step 7300: 0.2010287046432495\n",
      "Minibatch loss at step 7350: 0.23817692697048187\n",
      "Minibatch loss at step 7400: 0.2870252728462219\n",
      "Minibatch loss at step 7450: 0.2587643265724182\n",
      "Minibatch loss at step 7500: 0.11185897886753082\n",
      "Minibatch loss at step 7550: 0.1940373182296753\n",
      "Minibatch loss at step 7600: 0.2590681314468384\n",
      "Minibatch loss at step 7650: 0.16277338564395905\n",
      "Minibatch loss at step 7700: 0.20270536839962006\n",
      "Minibatch loss at step 7750: 0.24609306454658508\n",
      "Minibatch loss at step 7800: 0.18701978027820587\n",
      "Minibatch loss at step 7850: 0.2584983706474304\n",
      "Minibatch loss at step 7900: 0.3721371591091156\n",
      "Minibatch loss at step 7950: 0.12524254620075226\n",
      "Minibatch loss at step 8000: 0.25535836815834045\n",
      "Minibatch loss at step 8050: 0.1678667515516281\n",
      "Minibatch loss at step 8100: 0.17404860258102417\n",
      "Minibatch loss at step 8150: 0.27819743752479553\n",
      "Minibatch loss at step 8200: 0.27491769194602966\n",
      "Minibatch loss at step 8250: 0.27339568734169006\n",
      "Minibatch loss at step 8300: 0.18250223994255066\n",
      "Minibatch loss at step 8350: 0.33325567841529846\n",
      "Minibatch loss at step 8400: 0.22290244698524475\n",
      "Minibatch loss at step 8450: 0.4438874125480652\n"
     ]
    },
    {
     "name": "stdout",
     "output_type": "stream",
     "text": [
      "Minibatch loss at step 8500: 0.18252474069595337\n",
      "Minibatch loss at step 8550: 0.2846614718437195\n",
      "Minibatch loss at step 8600: 0.2454293668270111\n",
      "Minibatch loss at step 8650: 0.38055115938186646\n",
      "Minibatch loss at step 8700: 0.20152448117733002\n",
      "Minibatch loss at step 8750: 0.2520572245121002\n",
      "Minibatch loss at step 8800: 0.33475008606910706\n",
      "Minibatch loss at step 8850: 0.23662346601486206\n",
      "Minibatch loss at step 8900: 0.14095623791217804\n",
      "Minibatch loss at step 8950: 0.24875274300575256\n",
      "Minibatch loss at step 9000: 0.2509981393814087\n",
      "Minibatch loss at step 9050: 0.2897588908672333\n",
      "Minibatch loss at step 9100: 0.4235098958015442\n",
      "Minibatch loss at step 9150: 0.22002679109573364\n",
      "Minibatch loss at step 9200: 0.30917900800704956\n",
      "Minibatch loss at step 9250: 0.19550324976444244\n",
      "Minibatch loss at step 9300: 0.37342187762260437\n",
      "Minibatch loss at step 9350: 0.3302132189273834\n",
      "Minibatch loss at step 9400: 0.20743772387504578\n",
      "Minibatch loss at step 9450: 0.1911773979663849\n",
      "Minibatch loss at step 9500: 0.19499275088310242\n",
      "Minibatch loss at step 9550: 0.14572404325008392\n",
      "Minibatch loss at step 9600: 0.24791592359542847\n",
      "Minibatch loss at step 9650: 0.29345786571502686\n",
      "Minibatch loss at step 9700: 0.27913224697113037\n",
      "Minibatch loss at step 9750: 0.35626861453056335\n",
      "Minibatch loss at step 9800: 0.2760581970214844\n",
      "Minibatch loss at step 9850: 0.2887935936450958\n",
      "Minibatch loss at step 9900: 0.16875189542770386\n",
      "Minibatch loss at step 9950: 0.25371479988098145\n",
      "Training time: 22.430676460266113s\n"
     ]
    }
   ],
   "source": [
    "TRAIN_BATCH_SIZE = 128\n",
    "ITERATIONS = 10000\n",
    "\n",
    "import time\n",
    "start_time = time.time()\n",
    "\n",
    "losses = model.train(train_set, train_labels_onehot, TRAIN_BATCH_SIZE, ITERATIONS)\n",
    "\n",
    "end_time = time.time()\n",
    "print(\"Training time: {}s\".format(end_time - start_time))"
   ]
  },
  {
   "cell_type": "code",
   "execution_count": 14,
   "metadata": {},
   "outputs": [
    {
     "name": "stdout",
     "output_type": "stream",
     "text": [
      "(200, 2)\n"
     ]
    }
   ],
   "source": [
    "losses = np.array(losses)\n",
    "print(losses.shape)"
   ]
  },
  {
   "cell_type": "code",
   "execution_count": 15,
   "metadata": {},
   "outputs": [
    {
     "data": {
      "image/png": "[encoded data removed]",
      "text/plain": [
       "<Figure size 720x360 with 1 Axes>"
      ]
     },
     "metadata": {
      "needs_background": "light"
     },
     "output_type": "display_data"
    }
   ],
   "source": [
    "iterations = losses[:, 0]\n",
    "train_loss = losses[:, 1]\n",
    "plt.figure(figsize=(10, 5))\n",
    "plt.plot(iterations, train_loss)\n",
    "plt.xlabel(\"Iterations\")\n",
    "plt.ylabel(\"Loss\")\n",
    "plt.title(\"Training curve\")\n",
    "plt.show()"
   ]
  },
  {
   "cell_type": "code",
   "execution_count": 17,
   "metadata": {},
   "outputs": [
    {
     "name": "stdout",
     "output_type": "stream",
     "text": [
      "0.09277246\n"
     ]
    }
   ],
   "source": [
    "example = np.array([0,1])\n",
    "\n",
    "sample = train_set\n",
    "label =train_labels_onehot\n",
    "\n",
    "#digit = np.where(label[0]==1.0)[0][0]\n",
    "\n",
    "feed_dict = {model.input: sample, model.ground_truth: label}\n",
    "precision = model.sess.run(model.precision, feed_dict=feed_dict)\n",
    "#print(np.mean(np.diag(np.matmul(prediction,label.T))))\n",
    "print(precision)"
   ]
  },
  {
   "cell_type": "code",
   "execution_count": null,
   "metadata": {},
   "outputs": [],
   "source": []
  }
 ],
 "metadata": {
  "kernelspec": {
   "display_name": "Python 3",
   "language": "python",
   "name": "python3"
  },
  "language_info": {
   "codemirror_mode": {
    "name": "ipython",
    "version": 3
   },
   "file_extension": ".py",
   "mimetype": "text/x-python",
   "name": "python",
   "nbconvert_exporter": "python",
   "pygments_lexer": "ipython3",
   "version": "3.6.6"
  }
 },
 "nbformat": 4,
 "nbformat_minor": 2
}
