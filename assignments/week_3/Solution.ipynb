{
 "cells": [
  {
   "cell_type": "code",
   "execution_count": 1,
   "metadata": {},
   "outputs": [],
   "source": [
    "import numpy as np\n",
    "import pandas as pd\n",
    "import tensorflow as tf\n",
    "import matplotlib.pyplot as plt\n",
    "from sklearn import preprocessing"
   ]
  },
  {
   "cell_type": "code",
   "execution_count": 2,
   "metadata": {},
   "outputs": [],
   "source": [
    "train_data=np.genfromtxt('../week_2/MNIST/mnist_train.csv',delimiter=',')\n",
    "test_data=np.genfromtxt('../week_2/MNIST/mnist_test.csv',delimiter=',')"
   ]
  },
  {
   "cell_type": "code",
   "execution_count": 3,
   "metadata": {},
   "outputs": [],
   "source": [
    "train_labels=train_data[:,0]\n",
    "train_set=train_data[:,1:]\n",
    "test_labels=test_data[:,0]\n",
    "test_set=test_data[:,1:]"
   ]
  },
  {
   "cell_type": "code",
   "execution_count": 4,
   "metadata": {},
   "outputs": [
    {
     "name": "stdout",
     "output_type": "stream",
     "text": [
      "(60000, 784)\n",
      "(10000, 784)\n"
     ]
    }
   ],
   "source": [
    "print(np.shape(train_set))\n",
    "print(np.shape(test_set))"
   ]
  },
  {
   "cell_type": "code",
   "execution_count": 5,
   "metadata": {},
   "outputs": [],
   "source": [
    "enc=preprocessing.OneHotEncoder(sparse=False,categories='auto')"
   ]
  },
  {
   "cell_type": "code",
   "execution_count": 6,
   "metadata": {},
   "outputs": [
    {
     "data": {
      "text/plain": [
       "OneHotEncoder(categorical_features=None, categories='auto',\n",
       "       dtype=<class 'numpy.float64'>, handle_unknown='error',\n",
       "       n_values=None, sparse=False)"
      ]
     },
     "execution_count": 6,
     "metadata": {},
     "output_type": "execute_result"
    }
   ],
   "source": [
    "enc.fit(train_labels.reshape(-1,1))"
   ]
  },
  {
   "cell_type": "code",
   "execution_count": 7,
   "metadata": {},
   "outputs": [],
   "source": [
    "train_labels_onehot=enc.transform(train_labels.reshape(-1,1))\n",
    "test_labels_onehot=enc.transform(test_labels.reshape(-1,1))"
   ]
  },
  {
   "cell_type": "code",
   "execution_count": 8,
   "metadata": {},
   "outputs": [
    {
     "data": {
      "text/plain": [
       "array([[0., 0., 0., ..., 0., 0., 0.],\n",
       "       [1., 0., 0., ..., 0., 0., 0.],\n",
       "       [0., 0., 0., ..., 0., 0., 0.],\n",
       "       ...,\n",
       "       [0., 0., 0., ..., 0., 0., 0.],\n",
       "       [0., 0., 0., ..., 0., 0., 0.],\n",
       "       [0., 0., 0., ..., 0., 1., 0.]])"
      ]
     },
     "execution_count": 8,
     "metadata": {},
     "output_type": "execute_result"
    }
   ],
   "source": [
    "train_labels_onehot"
   ]
  },
  {
   "cell_type": "code",
   "execution_count": 9,
   "metadata": {},
   "outputs": [
    {
     "data": {
      "text/plain": [
       "array([[0., 0., 0., ..., 1., 0., 0.],\n",
       "       [0., 0., 1., ..., 0., 0., 0.],\n",
       "       [0., 1., 0., ..., 0., 0., 0.],\n",
       "       ...,\n",
       "       [0., 0., 0., ..., 0., 0., 0.],\n",
       "       [0., 0., 0., ..., 0., 0., 0.],\n",
       "       [0., 0., 0., ..., 0., 0., 0.]])"
      ]
     },
     "execution_count": 9,
     "metadata": {},
     "output_type": "execute_result"
    }
   ],
   "source": [
    "test_labels_onehot"
   ]
  },
  {
   "cell_type": "code",
   "execution_count": 20,
   "metadata": {},
   "outputs": [],
   "source": [
    "train_set = train_set.reshape(60000,28,28,1)\n",
    "test_set = test_set.reshape(10000,28,28,1)"
   ]
  },
  {
   "cell_type": "code",
   "execution_count": 35,
   "metadata": {},
   "outputs": [],
   "source": [
    "class MNIST_CNN:\n",
    "    def __init__(self, wd_factor, learning_rate):\n",
    "        self.wd_factor = wd_factor\n",
    "        self.learning_rate = learning_rate\n",
    "        self.train_pointer = 0\n",
    "        self.test_pointer = 0\n",
    "        \n",
    "        self.input = tf.placeholder(dtype=tf.float32, shape=[None, 28, 28, 1], name='input')\n",
    "        self.ground_truth = tf.placeholder(dtype=tf.float32, shape=[None, 10], name='ground_truth')\n",
    "        \n",
    "        # For batch norm and dropout\n",
    "        self.is_training = tf.placeholder(tf.bool, name='is_training')\n",
    "        print(self.input)\n",
    "        \n",
    "        self._build_graph()\n",
    "        \n",
    "    def _build_graph(self):\n",
    "        weights = []  # for weight decay\n",
    "        \n",
    "        with tf.variable_scope('layers'):\n",
    "            h = tf.layers.conv2d(self.input, 28, (11, 11), strides=(4, 4), padding='same', \n",
    "                                 data_format='channels_last', activation=None, use_bias=True,\n",
    "                                 kernel_initializer=tf.glorot_uniform_initializer(), name='conv1')\n",
    "            print(h)\n",
    "            \n",
    "            h = tf.layers.batch_normalization(h, training=self.is_training)\n",
    "            h = tf.nn.relu(h)\n",
    "            h = tf.layers.conv2d(h, 56, (5, 5), strides=(1, 1), padding='same', \n",
    "                                 data_format='channels_last', activation=None, use_bias=True,\n",
    "                                 kernel_initializer=tf.glorot_uniform_initializer(), name='conv2')\n",
    "            \n",
    "            h = tf.layers.batch_normalization(h, training=self.is_training)\n",
    "            h = tf.nn.relu(h)\n",
    "            h = tf.layers.conv2d(h, 56, (3, 3), strides=(1, 1), padding='same', \n",
    "                                 data_format='channels_last', activation=None, use_bias=True,\n",
    "                                 kernel_initializer=tf.glorot_uniform_initializer(), name='conv3')\n",
    "            \n",
    "            # Downsample\n",
    "            h = tf.layers.max_pooling2d(h, (2, 2), (2, 2), padding='valid', name='pool1')\n",
    "            print(h)\n",
    "            \n",
    "            # Fully connected layers\n",
    "            h = tf.layers.batch_normalization(h, training=self.is_training)\n",
    "            h = tf.nn.relu(h)\n",
    "            h = tf.layers.flatten(h)\n",
    "            print(h)\n",
    "            \n",
    "            h = tf.layers.dense(h, 28, kernel_initializer=tf.glorot_uniform_initializer(), \n",
    "                                activation=tf.nn.relu, name='dense1')\n",
    "            print(h)\n",
    "            h = tf.layers.dropout(h, rate=0.25, training=self.is_training, name='dropout1')\n",
    "            print(h)\n",
    "            \n",
    "            self.logits = tf.layers.dense(h, 10, kernel_initializer=tf.glorot_uniform_initializer(), \n",
    "                                          activation=tf.identity, name='dense2')\n",
    "            print(self.logits)\n",
    "            self.prediction = tf.nn.softmax(self.logits, name='softmax_prediction')\n",
    "            self.precision = tf.reduce_mean(self.prediction*self.ground_truth)\n",
    "\n",
    "        with tf.name_scope('loss'):\n",
    "            self.loss = tf.reduce_mean(tf.nn.softmax_cross_entropy_with_logits_v2(logits=self.logits, \n",
    "                                                                                  labels=self.ground_truth))\n",
    "            self.loss += self.weight_decay()\n",
    "            \n",
    "        self.optimizer = tf.train.AdamOptimizer(self.learning_rate)\n",
    "        \n",
    "        update_ops = tf.get_collection(tf.GraphKeys.UPDATE_OPS)\n",
    "        with tf.control_dependencies(update_ops):\n",
    "            self.train_op = self.optimizer.minimize(self.loss)\n",
    "            \n",
    "    def weight_decay(self):\n",
    "        loss = 0\n",
    "        for v in tf.global_variables():\n",
    "            if 'Adam' in v.name:\n",
    "                continue\n",
    "            elif 'kernel' in v.name:\n",
    "                loss += self.wd_factor * tf.nn.l2_loss(v)\n",
    "        print(loss)\n",
    "        return loss\n",
    "    \n",
    "    def train_minibatch(self, samples, labels, batch_size):\n",
    "        if self.train_pointer + batch_size <= samples.shape[0]:\n",
    "            samples_minibatch = samples[self.train_pointer: self.train_pointer + batch_size]\n",
    "            labels_minibatch = labels[self.train_pointer: self.train_pointer + batch_size]\n",
    "            self.train_pointer += batch_size\n",
    "        else:\n",
    "            samples_minibatch = samples[self.train_pointer:]\n",
    "            labels_minibatch = labels[self.train_pointer: self.train_pointer + batch_size]\n",
    "            self.train_pointer = 0\n",
    "        return samples_minibatch, labels_minibatch\n",
    "\n",
    "    def train(self, train_samples, train_labels, train_batch_size, iteration_steps):\n",
    "        print('Start Training')\n",
    "        losses = []\n",
    "        \n",
    "        with tf.Session() as sess:\n",
    "            sess.run(tf.global_variables_initializer())\n",
    "            saver = tf.train.Saver()\n",
    "            \n",
    "            for i in range(iteration_steps):\n",
    "                samples, labels = self.train_minibatch(train_samples, train_labels, train_batch_size)\n",
    "                \n",
    "                feed_dict = {self.input: samples, self.ground_truth: labels, self.is_training: True}\n",
    "                _, loss = sess.run([self.train_op, self.loss], feed_dict=feed_dict)\n",
    "                \n",
    "                if i % 50 == 0:\n",
    "                    print(\"Minibatch loss at step {}: {}\".format(i, loss))\n",
    "                    losses.append([i, loss])\n",
    "                    \n",
    "            saver.save(sess, './model')\n",
    "        return losses\n",
    "                    \n",
    "    def test_minibatch(self, samples, labels, batch_size):\n",
    "        if self.test_pointer + batch_size <= samples.shape[0]:\n",
    "            samples_minibatch = samples[self.test_pointer: self.test_pointer + batch_size]\n",
    "            labels_minibatch = labels[self.test_pointer: self.test_pointer + batch_size]\n",
    "            self.test_pointer += batch_size\n",
    "            end_of_epoch = False\n",
    "        else:\n",
    "            samples_minibatch = samples[self.test_pointer:]\n",
    "            labels_minibatch = labels[self.test_pointer: self.test_pointer + batch_size]\n",
    "            self.test_pointer = 0\n",
    "            end_of_epoch = True\n",
    "        return samples_minibatch, labels_minibatch, end_of_epoch\n",
    "            \n",
    "    def test(self, test_samples, test_labels, test_batch_size):\n",
    "        self.test_pointer = 0\n",
    "        end_of_epoch = False\n",
    "        losses = []\n",
    "        precisions = []\n",
    "        \n",
    "        with tf.Session() as sess:\n",
    "            saver = tf.train.import_meta_graph(\"./model.meta\")\n",
    "            saver.restore(sess, './model')\n",
    "            while not end_of_epoch:\n",
    "                samples, labels, end_of_epoch = self.test_minibatch(test_samples, test_labels, test_batch_size)\n",
    "                feed_dict = {self.input: samples, self.ground_truth: labels, self.is_training: False}\n",
    "                losses.append(sess.run(self.loss, feed_dict=feed_dict))\n",
    "                precisions.append(sess.run(self.precision, feed_dict=feed_dict))\n",
    "        print(\"Average test loss: {}\".format(np.mean(losses)))\n",
    "        print(\"Average test precision: {}\".format(np.mean(precisions)))"
   ]
  },
  {
   "cell_type": "code",
   "execution_count": 37,
   "metadata": {},
   "outputs": [
    {
     "name": "stdout",
     "output_type": "stream",
     "text": [
      "Tensor(\"input:0\", shape=(?, 28, 28, 1), dtype=float32)\n",
      "Tensor(\"layers/conv1/BiasAdd:0\", shape=(?, 7, 7, 28), dtype=float32)\n",
      "Tensor(\"layers/pool1/MaxPool:0\", shape=(?, 3, 3, 56), dtype=float32)\n",
      "Tensor(\"layers/flatten/Reshape:0\", shape=(?, 504), dtype=float32)\n",
      "Tensor(\"layers/dense1/Relu:0\", shape=(?, 28), dtype=float32)\n",
      "Tensor(\"layers/dropout1/cond/Merge:0\", shape=(?, 28), dtype=float32)\n",
      "Tensor(\"layers/dense2/Identity:0\", shape=(?, 10), dtype=float32)\n",
      "Tensor(\"loss/add_4:0\", shape=(), dtype=float32)\n"
     ]
    }
   ],
   "source": [
    "tf.reset_default_graph()\n",
    "WD_FACTOR = 0.0\n",
    "LEARNING_RATE = 0.001\n",
    "model = MNIST_CNN(WD_FACTOR, LEARNING_RATE)"
   ]
  },
  {
   "cell_type": "code",
   "execution_count": 38,
   "metadata": {},
   "outputs": [
    {
     "name": "stdout",
     "output_type": "stream",
     "text": [
      "Start Training\n",
      "Minibatch loss at step 0: 2.626481056213379\n",
      "Minibatch loss at step 50: 0.4495670199394226\n",
      "Minibatch loss at step 100: 0.22456824779510498\n",
      "Minibatch loss at step 150: 0.22280184924602509\n",
      "Minibatch loss at step 200: 0.14424251019954681\n",
      "Minibatch loss at step 250: 0.1786392778158188\n",
      "Minibatch loss at step 300: 0.10426922142505646\n",
      "Minibatch loss at step 350: 0.16647326946258545\n",
      "Minibatch loss at step 400: 0.17550642788410187\n",
      "Minibatch loss at step 450: 0.14934603869915009\n",
      "Minibatch loss at step 500: 0.06552302837371826\n",
      "Minibatch loss at step 550: 0.05068168789148331\n",
      "Minibatch loss at step 600: 0.05771771818399429\n",
      "Minibatch loss at step 650: 0.07061652094125748\n",
      "Minibatch loss at step 700: 0.09996373951435089\n",
      "Minibatch loss at step 750: 0.10561545193195343\n",
      "Minibatch loss at step 800: 0.09133583307266235\n",
      "Minibatch loss at step 850: 0.03967747837305069\n",
      "Minibatch loss at step 900: 0.1409357786178589\n",
      "Minibatch loss at step 950: 0.1353156864643097\n",
      "Minibatch loss at step 1000: 0.052278440445661545\n",
      "Minibatch loss at step 1050: 0.04971937835216522\n",
      "Minibatch loss at step 1100: 0.1362321823835373\n",
      "Minibatch loss at step 1150: 0.14726319909095764\n",
      "Minibatch loss at step 1200: 0.01060505397617817\n",
      "Minibatch loss at step 1250: 0.04251568764448166\n",
      "Minibatch loss at step 1300: 0.08484410494565964\n",
      "Minibatch loss at step 1350: 0.10310755670070648\n",
      "Minibatch loss at step 1400: 0.014782343059778214\n",
      "Minibatch loss at step 1450: 0.06940300762653351\n",
      "Minibatch loss at step 1500: 0.05145518109202385\n",
      "Minibatch loss at step 1550: 0.12187056243419647\n",
      "Minibatch loss at step 1600: 0.06405770033597946\n",
      "Minibatch loss at step 1650: 0.01245881337672472\n",
      "Minibatch loss at step 1700: 0.014947250485420227\n",
      "Minibatch loss at step 1750: 0.07459593564271927\n",
      "Minibatch loss at step 1800: 0.053169332444667816\n",
      "Minibatch loss at step 1850: 0.05137448012828827\n",
      "Minibatch loss at step 1900: 0.01894041709601879\n",
      "Minibatch loss at step 1950: 0.04541940614581108\n",
      "Minibatch loss at step 2000: 0.047848500311374664\n",
      "Minibatch loss at step 2050: 0.02827657200396061\n",
      "Minibatch loss at step 2100: 0.07604952901601791\n",
      "Minibatch loss at step 2150: 0.004915050696581602\n",
      "Minibatch loss at step 2200: 0.08172813057899475\n",
      "Minibatch loss at step 2250: 0.0743606761097908\n",
      "Minibatch loss at step 2300: 0.039611928164958954\n",
      "Minibatch loss at step 2350: 0.024078557267785072\n",
      "Minibatch loss at step 2400: 0.04232292249798775\n",
      "Minibatch loss at step 2450: 0.05629342049360275\n",
      "Minibatch loss at step 2500: 0.010986979119479656\n",
      "Minibatch loss at step 2550: 0.025253554806113243\n",
      "Minibatch loss at step 2600: 0.03263300284743309\n",
      "Minibatch loss at step 2650: 0.006111824419349432\n",
      "Minibatch loss at step 2700: 0.03179174289107323\n",
      "Minibatch loss at step 2750: 0.03830723837018013\n",
      "Minibatch loss at step 2800: 0.011120947077870369\n",
      "Minibatch loss at step 2850: 0.023714879527688026\n",
      "Minibatch loss at step 2900: 0.022013772279024124\n",
      "Minibatch loss at step 2950: 0.008689740672707558\n",
      "Minibatch loss at step 3000: 0.02216464653611183\n",
      "Minibatch loss at step 3050: 0.006728807929903269\n",
      "Minibatch loss at step 3100: 0.01254347525537014\n",
      "Minibatch loss at step 3150: 0.06255599111318588\n",
      "Minibatch loss at step 3200: 0.010448263958096504\n",
      "Minibatch loss at step 3250: 0.053478144109249115\n",
      "Minibatch loss at step 3300: 0.008768679574131966\n",
      "Minibatch loss at step 3350: 0.010715613141655922\n",
      "Minibatch loss at step 3400: 0.02322237566113472\n",
      "Minibatch loss at step 3450: 0.08618993312120438\n",
      "Minibatch loss at step 3500: 0.05810261517763138\n",
      "Minibatch loss at step 3550: 0.011856968514621258\n",
      "Minibatch loss at step 3600: 0.015711504966020584\n",
      "Minibatch loss at step 3650: 0.029555872082710266\n",
      "Minibatch loss at step 3700: 0.030437074601650238\n",
      "Minibatch loss at step 3750: 0.0015048510394990444\n",
      "Minibatch loss at step 3800: 0.012111787684261799\n",
      "Minibatch loss at step 3850: 0.01610272005200386\n",
      "Minibatch loss at step 3900: 0.0015738389920443296\n",
      "Minibatch loss at step 3950: 0.007101257797330618\n",
      "Minibatch loss at step 4000: 0.05908755213022232\n",
      "Minibatch loss at step 4050: 0.004590339493006468\n",
      "Minibatch loss at step 4100: 0.0030226637609302998\n",
      "Minibatch loss at step 4150: 0.005377925932407379\n",
      "Minibatch loss at step 4200: 0.025212109088897705\n",
      "Minibatch loss at step 4250: 0.012750877067446709\n",
      "Minibatch loss at step 4300: 0.04390763118863106\n",
      "Minibatch loss at step 4350: 0.012622683309018612\n",
      "Minibatch loss at step 4400: 0.0021019689738750458\n",
      "Minibatch loss at step 4450: 0.03475392609834671\n",
      "Minibatch loss at step 4500: 0.01129370927810669\n",
      "Minibatch loss at step 4550: 0.007612114772200584\n",
      "Minibatch loss at step 4600: 0.006154051050543785\n",
      "Minibatch loss at step 4650: 0.0044541251845657825\n",
      "Minibatch loss at step 4700: 0.11564209312200546\n",
      "Minibatch loss at step 4750: 0.010201490484178066\n",
      "Minibatch loss at step 4800: 0.01714714802801609\n",
      "Minibatch loss at step 4850: 0.046772416681051254\n",
      "Minibatch loss at step 4900: 0.05485806241631508\n",
      "Minibatch loss at step 4950: 0.03133990243077278\n",
      "Minibatch loss at step 5000: 0.03146188706159592\n",
      "Minibatch loss at step 5050: 0.009590605273842812\n",
      "Minibatch loss at step 5100: 0.003974642604589462\n",
      "Minibatch loss at step 5150: 0.0012860613642260432\n",
      "Minibatch loss at step 5200: 0.004066807217895985\n",
      "Minibatch loss at step 5250: 0.02954796329140663\n",
      "Minibatch loss at step 5300: 0.008377310819923878\n",
      "Minibatch loss at step 5350: 0.0076365661807358265\n",
      "Minibatch loss at step 5400: 0.006232011131942272\n",
      "Minibatch loss at step 5450: 0.016073638573288918\n",
      "Minibatch loss at step 5500: 0.018599502742290497\n",
      "Minibatch loss at step 5550: 0.009121273644268513\n",
      "Minibatch loss at step 5600: 0.02788470685482025\n",
      "Minibatch loss at step 5650: 0.00660347193479538\n",
      "Minibatch loss at step 5700: 0.03380715474486351\n",
      "Minibatch loss at step 5750: 0.03558480739593506\n",
      "Minibatch loss at step 5800: 0.037723056972026825\n",
      "Minibatch loss at step 5850: 0.004316059872508049\n",
      "Minibatch loss at step 5900: 0.034629639238119125\n",
      "Minibatch loss at step 5950: 0.03447933495044708\n",
      "Minibatch loss at step 6000: 0.00575537234544754\n",
      "Minibatch loss at step 6050: 0.019042929634451866\n",
      "Minibatch loss at step 6100: 0.015000846236944199\n",
      "Minibatch loss at step 6150: 0.02168978936970234\n",
      "Minibatch loss at step 6200: 0.0027978746220469475\n",
      "Minibatch loss at step 6250: 0.0017225712072104216\n",
      "Minibatch loss at step 6300: 0.002650079783052206\n",
      "Minibatch loss at step 6350: 0.020478805527091026\n",
      "Minibatch loss at step 6400: 0.0018898241687566042\n",
      "Minibatch loss at step 6450: 0.006180453114211559\n",
      "Minibatch loss at step 6500: 0.009533356875181198\n",
      "Minibatch loss at step 6550: 0.029824387282133102\n",
      "Minibatch loss at step 6600: 0.04148087650537491\n",
      "Minibatch loss at step 6650: 0.023029372096061707\n",
      "Minibatch loss at step 6700: 0.0018005932215601206\n",
      "Minibatch loss at step 6750: 0.02740759775042534\n",
      "Minibatch loss at step 6800: 0.053347110748291016\n",
      "Minibatch loss at step 6850: 0.008447708562016487\n",
      "Minibatch loss at step 6900: 0.050640132278203964\n",
      "Minibatch loss at step 6950: 0.0008394003962166607\n",
      "Minibatch loss at step 7000: 0.0012571559054777026\n",
      "Minibatch loss at step 7050: 0.004897136706858873\n",
      "Minibatch loss at step 7100: 0.002575809368863702\n",
      "Minibatch loss at step 7150: 0.01786840334534645\n",
      "Minibatch loss at step 7200: 0.01991097442805767\n",
      "Minibatch loss at step 7250: 0.018390130251646042\n",
      "Minibatch loss at step 7300: 0.004113676492124796\n",
      "Minibatch loss at step 7350: 0.00048594054533168674\n",
      "Minibatch loss at step 7400: 0.0015067404601722956\n",
      "Minibatch loss at step 7450: 0.01170708704739809\n",
      "Minibatch loss at step 7500: 0.00017628876958042383\n",
      "Minibatch loss at step 7550: 0.012320060282945633\n",
      "Minibatch loss at step 7600: 0.004755962640047073\n",
      "Minibatch loss at step 7650: 0.004551602527499199\n",
      "Minibatch loss at step 7700: 0.0012649440905079246\n",
      "Minibatch loss at step 7750: 0.03026561439037323\n",
      "Minibatch loss at step 7800: 0.013828648254275322\n",
      "Minibatch loss at step 7850: 0.02330823987722397\n",
      "Minibatch loss at step 7900: 0.016604797914624214\n",
      "Minibatch loss at step 7950: 0.020389152690768242\n",
      "Minibatch loss at step 8000: 0.008829979225993156\n",
      "Minibatch loss at step 8050: 0.004333220887929201\n",
      "Minibatch loss at step 8100: 0.0006217895424924791\n",
      "Minibatch loss at step 8150: 0.01999545469880104\n",
      "Minibatch loss at step 8200: 0.00588248809799552\n",
      "Minibatch loss at step 8250: 0.0073867784813046455\n"
     ]
    },
    {
     "name": "stdout",
     "output_type": "stream",
     "text": [
      "Minibatch loss at step 8300: 0.00829398538917303\n",
      "Minibatch loss at step 8350: 0.011044622398912907\n",
      "Minibatch loss at step 8400: 0.0018712211167439818\n",
      "Minibatch loss at step 8450: 0.022888660430908203\n",
      "Minibatch loss at step 8500: 0.007007864769548178\n",
      "Minibatch loss at step 8550: 0.012913266196846962\n",
      "Minibatch loss at step 8600: 0.04425138980150223\n",
      "Minibatch loss at step 8650: 0.017760509625077248\n",
      "Minibatch loss at step 8700: 0.0005477896775119007\n",
      "Minibatch loss at step 8750: 0.008988309651613235\n",
      "Minibatch loss at step 8800: 0.03547430783510208\n",
      "Minibatch loss at step 8850: 0.011317454278469086\n",
      "Minibatch loss at step 8900: 0.0024641507770866156\n",
      "Minibatch loss at step 8950: 0.00928648840636015\n",
      "Minibatch loss at step 9000: 0.0006924492190591991\n",
      "Minibatch loss at step 9050: 0.0077907619997859\n",
      "Minibatch loss at step 9100: 0.0017951929476112127\n",
      "Minibatch loss at step 9150: 0.007771703880280256\n",
      "Minibatch loss at step 9200: 0.004882729146629572\n",
      "Minibatch loss at step 9250: 0.003383169649168849\n",
      "Minibatch loss at step 9300: 0.009249303489923477\n",
      "Minibatch loss at step 9350: 0.002184131182730198\n",
      "Minibatch loss at step 9400: 0.017613142728805542\n",
      "Minibatch loss at step 9450: 0.00041380157927051187\n",
      "Minibatch loss at step 9500: 0.01182333193719387\n",
      "Minibatch loss at step 9550: 0.0010199955431744456\n",
      "Minibatch loss at step 9600: 0.0004248185141477734\n",
      "Minibatch loss at step 9650: 0.015339020639657974\n",
      "Minibatch loss at step 9700: 0.0010307877091690898\n",
      "Minibatch loss at step 9750: 0.004873951897025108\n",
      "Minibatch loss at step 9800: 0.007083384320139885\n",
      "Minibatch loss at step 9850: 0.023817917332053185\n",
      "Minibatch loss at step 9900: 0.003985177725553513\n",
      "Minibatch loss at step 9950: 0.08780702203512192\n",
      "Training time: 49.69185447692871s\n"
     ]
    }
   ],
   "source": [
    "TRAIN_BATCH_SIZE = 128\n",
    "ITERATIONS = 10000\n",
    "\n",
    "import time\n",
    "start_time = time.time()\n",
    "\n",
    "losses = model.train(train_set, train_labels_onehot, TRAIN_BATCH_SIZE, ITERATIONS)\n",
    "\n",
    "end_time = time.time()\n",
    "print(\"Training time: {}s\".format(end_time - start_time))"
   ]
  },
  {
   "cell_type": "code",
   "execution_count": 39,
   "metadata": {},
   "outputs": [
    {
     "data": {
      "image/png": "[encoded data removed]",
      "text/plain": [
       "<Figure size 720x360 with 1 Axes>"
      ]
     },
     "metadata": {
      "needs_background": "light"
     },
     "output_type": "display_data"
    }
   ],
   "source": [
    "import matplotlib.pyplot as plt\n",
    "losses=np.array(losses)\n",
    "iterations = losses[:, 0]\n",
    "train_loss = losses[:, 1]\n",
    "\n",
    "plt.figure(figsize=(10, 5))\n",
    "plt.plot(iterations, train_loss, 'b-')\n",
    "plt.xlabel(\"Iterations\")\n",
    "plt.ylabel(\"Loss\")\n",
    "plt.title(\"Training curve\")\n",
    "plt.show()"
   ]
  },
  {
   "cell_type": "code",
   "execution_count": 41,
   "metadata": {},
   "outputs": [
    {
     "name": "stdout",
     "output_type": "stream",
     "text": [
      "INFO:tensorflow:Restoring parameters from ./model\n",
      "Average test loss: 0.007404327392578125\n",
      "Average test loss: 0.09966221451759338\n"
     ]
    }
   ],
   "source": [
    "TEST_BATCH_SIZE = 128\n",
    "\n",
    "model.test(train_set, train_labels_onehot, TEST_BATCH_SIZE)"
   ]
  },
  {
   "cell_type": "code",
   "execution_count": 40,
   "metadata": {},
   "outputs": [
    {
     "name": "stdout",
     "output_type": "stream",
     "text": [
      "INFO:tensorflow:Restoring parameters from ./model\n",
      "Average test loss: 0.06277027726173401\n",
      "Average test loss: 0.09861195832490921\n"
     ]
    }
   ],
   "source": [
    "TEST_BATCH_SIZE = 128\n",
    "\n",
    "model.test(test_set, test_labels_onehot, TEST_BATCH_SIZE)"
   ]
  },
  {
   "cell_type": "code",
   "execution_count": null,
   "metadata": {},
   "outputs": [],
   "source": []
  }
 ],
 "metadata": {
  "kernelspec": {
   "display_name": "Python 3",
   "language": "python",
   "name": "python3"
  },
  "language_info": {
   "codemirror_mode": {
    "name": "ipython",
    "version": 3
   },
   "file_extension": ".py",
   "mimetype": "text/x-python",
   "name": "python",
   "nbconvert_exporter": "python",
   "pygments_lexer": "ipython3",
   "version": "3.6.6"
  }
 },
 "nbformat": 4,
 "nbformat_minor": 2
}
